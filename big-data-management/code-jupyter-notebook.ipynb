{
 "cells": [
  {
   "cell_type": "markdown",
   "id": "367fe7fa-64fc-42bf-998d-0ba1116caf07",
   "metadata": {},
   "source": [
    "# Alexander Roberts, S21158995, Big Data Coursework"
   ]
  },
  {
   "cell_type": "markdown",
   "id": "f58fd6f0-c1da-4640-993f-07e2492aefde",
   "metadata": {},
   "source": [
    "**A table of contents can be shown by going to 'View' -> 'Table of Contents'**"
   ]
  },
  {
   "cell_type": "markdown",
   "id": "5e9f4515-0d4f-4d67-9ad1-8d9901fa4919",
   "metadata": {},
   "source": [
    "The following code blocks assume the Cloudera Docker Compose container is active and is running normally. "
   ]
  },
  {
   "cell_type": "markdown",
   "id": "2348c55b-df9a-4fac-9f96-54de82c3122a",
   "metadata": {
    "jp-MarkdownHeadingCollapsed": true
   },
   "source": [
    "## Imports"
   ]
  },
  {
   "cell_type": "code",
   "execution_count": 1,
   "id": "6c91972e-980a-47d0-a817-3d6fd7dc8430",
   "metadata": {},
   "outputs": [],
   "source": [
    "# for visualisations\n",
    "import matplotlib.pyplot as plt\n",
    "import matplotlib.patches as mpatches\n",
    "import seaborn as sns\n",
    "\n",
    "# for HDFS connection\n",
    "from hdfs import InsecureClient\n",
    "\n",
    "# for HBase connection\n",
    "import happybase\n",
    "\n",
    "# for OS manipulation and system calls\n",
    "import os\n",
    "\n",
    "# for data manipulation\n",
    "from pyspark.sql import SparkSession\n",
    "from pyspark.sql.dataframe import DataFrame\n",
    "import pandas as pd\n",
    "from pyspark.sql.functions import *\n",
    "from pyspark.sql import Window\n",
    "\n",
    "# for machine learning\n",
    "from pyspark.ml.classification import RandomForestClassifier, LogisticRegression\n",
    "from pyspark.ml.clustering import KMeans\n",
    "from pyspark.ml.evaluation import ClusteringEvaluator, BinaryClassificationEvaluator\n",
    "from pyspark.ml.feature import VectorAssembler, OneHotEncoder, StringIndexer\n",
    "\n",
    "# for type checking\n",
    "from typing import Dict\n",
    "\n",
    "# for real-world heatmap\n",
    "import folium\n",
    "from folium.plugins import HeatMap"
   ]
  },
  {
   "cell_type": "markdown",
   "id": "2d7f216f-2cf2-488f-9367-5c650980aaab",
   "metadata": {
    "jp-MarkdownHeadingCollapsed": true
   },
   "source": [
    "## Setup - upload group 1 files (non-graph data) to HDFS"
   ]
  },
  {
   "cell_type": "markdown",
   "id": "f5a17ec8-e919-45cf-8bd2-a478fdd72bde",
   "metadata": {},
   "source": [
    "It may be necessary to create a target directory inside the HDFS. Also, the 'directory_path' may have to be adjusted to be pointed towards the folder containing the target files."
   ]
  },
  {
   "cell_type": "code",
   "execution_count": 2,
   "id": "ae3e230e-37ba-410a-88a7-badedd2bf05d",
   "metadata": {},
   "outputs": [
    {
     "name": "stdout",
     "output_type": "stream",
     "text": [
      "['flamingo-data']\n"
     ]
    }
   ],
   "source": [
    "client = InsecureClient('http://localhost:50070', user='hadoop')\n",
    "\n",
    "# Test connection by listing the root directory\n",
    "try:\n",
    "    print(client.list('/user/cloudera'))\n",
    "except Exception as e:\n",
    "    print(f\"Connection failed: {e}\")"
   ]
  },
  {
   "cell_type": "code",
   "execution_count": 10,
   "id": "da895e7b-7699-49c7-9867-6d2403ee9b64",
   "metadata": {},
   "outputs": [
    {
     "data": {
      "text/plain": [
       "'/user/cloudera/flamingo-data'"
      ]
     },
     "execution_count": 10,
     "metadata": {},
     "output_type": "execute_result"
    }
   ],
   "source": [
    "client.upload('/user/clouser', '/home/alex/Documents/BigDataAnalytics/flamingo-data', overwrite = True)"
   ]
  },
  {
   "cell_type": "markdown",
   "id": "988a7076-4267-4add-a0a7-23f634a40117",
   "metadata": {
    "jp-MarkdownHeadingCollapsed": true
   },
   "source": [
    "## Setup - upload group 2 files (graph data) to HDFS"
   ]
  },
  {
   "cell_type": "code",
   "execution_count": 107,
   "id": "2482d445-a03d-471e-822f-e4880f720cb2",
   "metadata": {},
   "outputs": [
    {
     "name": "stdout",
     "output_type": "stream",
     "text": [
      "['chat-data', 'flamingo-data']\n"
     ]
    }
   ],
   "source": [
    "client = InsecureClient('http://localhost:50070', user='hadoop')\n",
    "\n",
    "# Test connection by listing the root directory\n",
    "try:\n",
    "    print(client.list('/user/cloudera'))\n",
    "except Exception as e:\n",
    "    print(f\"Connection failed: {e}\")"
   ]
  },
  {
   "cell_type": "code",
   "execution_count": 106,
   "id": "6575093d-8e69-4b65-b1a6-4c7744a1c1c7",
   "metadata": {},
   "outputs": [
    {
     "data": {
      "text/plain": [
       "'/user/cloudera/chat-data'"
      ]
     },
     "execution_count": 106,
     "metadata": {},
     "output_type": "execute_result"
    }
   ],
   "source": [
    "client.upload('/user/cloudera', '/home/alex/Documents/BigDataAnalytics/chat-data', overwrite = True)"
   ]
  },
  {
   "cell_type": "markdown",
   "id": "1fe2a5b5-8c83-48ff-82fb-dbc9eab20a5f",
   "metadata": {
    "jp-MarkdownHeadingCollapsed": true
   },
   "source": [
    "## Setup - upload data to HBase"
   ]
  },
  {
   "cell_type": "code",
   "execution_count": 25,
   "id": "64bb17e1-0333-46f5-b773-9bda183bd487",
   "metadata": {},
   "outputs": [],
   "source": [
    "def upload_to_hbase(path_to_files:str) -> None:\n",
    "    \"\"\"\n",
    "    Upload files of the Flamingo Game data to HBase.\n",
    "\n",
    "    Parameters:\n",
    "        - path_to_files (string): The absolute path to the files stored on the current device.\n",
    "\n",
    "    Example:\n",
    "    >>> upload_to_hbase('/home/alex/Documents/BigDataAnalytics/flamingo-data')\n",
    "    \"\"\"\n",
    "    file_names = os.listdir(path_to_files)\n",
    "\n",
    "    # port 9090 is the default port for HBase Thrift server\n",
    "    conn = happybase.Connection('localhost', port = 9090, timeout = 100000)\n",
    "    \n",
    "    for file in file_names:\n",
    "        path = path_to_files + '/' + file\n",
    "        file_name = file.replace('.csv', '')\n",
    "        df = pd.read_csv(path)\n",
    "\n",
    "        # check if the column family already exists\n",
    "        if file_name.encode() in conn.tables():\n",
    "            continue\n",
    "\n",
    "        # record how many columns there are\n",
    "        col_count = len(df.columns)\n",
    "\n",
    "        # create a new table in HBase with the name corresponding to file_name, and an\n",
    "        # equal number of column families to the number of columns of the dataframe\n",
    "        conn.create_table(\n",
    "            file_name,\n",
    "            {f'cf{i+1}':dict() for i in range(col_count)}\n",
    "        )\n",
    "\n",
    "        table = conn.table(file_name)\n",
    "\n",
    "        # upload the data, line-by-line\n",
    "        for index, row in df.iterrows():\n",
    "            data = {}\n",
    "            i = 1\n",
    "            for col in df.columns:\n",
    "                key = 'cf' + str(i) + ':' + col\n",
    "                value = str(row[col])\n",
    "                data[key] = value\n",
    "                i+=1\n",
    "            row_key = str(index)\n",
    "            table.put(row_key, data)\n",
    "        print(\"Table {} completed, along with successful data upload.\".format(file_name))\n",
    "\n",
    "    conn.close()"
   ]
  },
  {
   "cell_type": "code",
   "execution_count": 26,
   "id": "71b1e884-1a1a-4102-aaeb-6bb9f1fb97c4",
   "metadata": {},
   "outputs": [
    {
     "name": "stdout",
     "output_type": "stream",
     "text": [
      "Table game-clicks completed, along with successful data upload.\n",
      "Table users completed, along with successful data upload.\n",
      "Table buy-clicks completed, along with successful data upload.\n",
      "Table ad-clicks completed, along with successful data upload.\n",
      "Table team completed, along with successful data upload.\n",
      "Table level-events completed, along with successful data upload.\n",
      "Table user-session completed, along with successful data upload.\n",
      "Table team-assignments completed, along with successful data upload.\n"
     ]
    }
   ],
   "source": [
    "upload_to_hbase('/home/alex/Documents/BigDataAnalytics/flamingo-data')"
   ]
  },
  {
   "cell_type": "code",
   "execution_count": 23,
   "id": "0bd95cb2-e196-4e1b-8885-25bd57800a66",
   "metadata": {},
   "outputs": [],
   "source": [
    "# delete all tables if desired\n",
    "\n",
    "def delete_hbase_tables() -> None:\n",
    "    \"\"\"\n",
    "    Delete all HBase tables.\n",
    "\n",
    "    Parameter:\n",
    "        - conn (happybase.connection.Connection): The pre-defined connection to the HBase Thrift Server.\n",
    "\n",
    "    Example:\n",
    "    >>> conn = conn = happybase.Connection('localhost', port = 9090, timeout = 100000)\n",
    "    >>> delete_hbase_tables(conn)\n",
    "    \"\"\"\n",
    "    conn = happybase.Connection('localhost', port = 9090, timeout = 100000)\n",
    "    \n",
    "    for table_name in conn.tables():\n",
    "        table_str = table_name.decode('utf-8')  # Convert bytes to string\n",
    "        conn.disable_table(table_str)  # Disable table before dropping\n",
    "        conn.delete_table(table_str)   # Drop the table\n",
    "        print(f\"Dropped table: {table_str}\")\n",
    "    conn.close()"
   ]
  },
  {
   "cell_type": "markdown",
   "id": "c77f949b-5ea7-4d3c-a407-3b343aa25d40",
   "metadata": {
    "jp-MarkdownHeadingCollapsed": true
   },
   "source": [
    "## Setup - download data"
   ]
  },
  {
   "cell_type": "code",
   "execution_count": 5,
   "id": "77eed3e2-52d9-4a6e-8ffb-052ad5d569d6",
   "metadata": {},
   "outputs": [],
   "source": [
    "# create a Spark Session\n",
    "spark = SparkSession.builder \\\n",
    "    .appName(\"BigDataAnalysis\") \\\n",
    "    .getOrCreate()\n",
    "\n",
    "def retrieve_hbase_data(spark: SparkSession) -> Dict[str, DataFrame]:\n",
    "    \"\"\"\n",
    "    Retrieve the stored flamingo data from the HBase storage.\n",
    "\n",
    "    Parameter:\n",
    "        - spark (SparkSession): The current SparkSession.\n",
    "\n",
    "    Returns:\n",
    "        - Dict[str, DataFrame]: a dictionary with key values corresponding to the original file names,\n",
    "                                and the respective values being Spark DataFrames.\n",
    "    \"\"\"\n",
    "    conn = happybase.Connection('localhost', port = 9090, timeout = 100000)\n",
    "\n",
    "    # a dictionary to store all of the files in separate dataframes\n",
    "    # key : file name, value : dataframe of the file data\n",
    "    df_dict = {}\n",
    "    \n",
    "    for table_name in conn.tables():\n",
    "        table = conn.table(table_name.decode('utf-8'))\n",
    "\n",
    "        # list temporarily holds the table data\n",
    "        data_list = []\n",
    "        for key, data in table.scan():\n",
    "            row_dict = {'row_key': key.decode('utf-8')}\n",
    "            for column, value in data.items():\n",
    "                row_dict[column.decode('utf-8')] = value.decode('utf-8')\n",
    "            data_list.append(row_dict)\n",
    "    \n",
    "        # convert the data into a Pandas dataframe temporarily\n",
    "        df = pd.DataFrame(data_list)\n",
    "        df = df.drop(columns=['row_key'])\n",
    "    \n",
    "        print(f\"Data successfully downloaded for {table_name.decode('utf-8')}.\")\n",
    "    \n",
    "        # attempt to convert columns from string (which is the default) into a numbers type or datetime\n",
    "        # if both attempts fail, it will be ignored (as it should probably be a string)\n",
    "        for col in df.columns:\n",
    "            try:\n",
    "                df[col] = pd.to_numeric(df[col])\n",
    "            except ValueError:\n",
    "                try:\n",
    "                    df[col] = pd.to_datetime(df[col])\n",
    "                except ValueError:\n",
    "                    pass\n",
    "    \n",
    "        # remove some semantic wording in the column names that was necessary for HBase\n",
    "        # e.g., 'cf1:timestamp' becomes 'timestamp'\n",
    "        df.columns = df.columns.str.replace(r'cf\\d+:', '', regex=True)\n",
    "    \n",
    "        # add the dataframe to the dictionary, and convert it into a Spark dataframe\n",
    "        df_dict[table_name.decode('utf-8')] = spark.createDataFrame(df)\n",
    "\n",
    "    return df_dict"
   ]
  },
  {
   "cell_type": "code",
   "execution_count": 17,
   "id": "a63f755e-d7fb-405f-a8ed-e3fd4ce3e277",
   "metadata": {},
   "outputs": [
    {
     "name": "stdout",
     "output_type": "stream",
     "text": [
      "Data successfully downloaded for ad-clicks.\n"
     ]
    },
    {
     "name": "stderr",
     "output_type": "stream",
     "text": [
      "/tmp/ipykernel_113619/2262595161.py:47: UserWarning: Could not infer format, so each element will be parsed individually, falling back to `dateutil`. To ensure parsing is consistent and as-expected, please specify a format.\n",
      "  df[col] = pd.to_datetime(df[col])\n"
     ]
    },
    {
     "name": "stdout",
     "output_type": "stream",
     "text": [
      "Data successfully downloaded for buy-clicks.\n",
      "Data successfully downloaded for game-clicks.\n",
      "Data successfully downloaded for level-events.\n",
      "Data successfully downloaded for team.\n"
     ]
    },
    {
     "name": "stderr",
     "output_type": "stream",
     "text": [
      "/tmp/ipykernel_113619/2262595161.py:47: UserWarning: Could not infer format, so each element will be parsed individually, falling back to `dateutil`. To ensure parsing is consistent and as-expected, please specify a format.\n",
      "  df[col] = pd.to_datetime(df[col])\n",
      "/tmp/ipykernel_113619/2262595161.py:47: UserWarning: Could not infer format, so each element will be parsed individually, falling back to `dateutil`. To ensure parsing is consistent and as-expected, please specify a format.\n",
      "  df[col] = pd.to_datetime(df[col])\n",
      "/tmp/ipykernel_113619/2262595161.py:47: UserWarning: Could not infer format, so each element will be parsed individually, falling back to `dateutil`. To ensure parsing is consistent and as-expected, please specify a format.\n",
      "  df[col] = pd.to_datetime(df[col])\n"
     ]
    },
    {
     "name": "stdout",
     "output_type": "stream",
     "text": [
      "Data successfully downloaded for team-assignments.\n",
      "Data successfully downloaded for user-session.\n"
     ]
    },
    {
     "name": "stderr",
     "output_type": "stream",
     "text": [
      "/tmp/ipykernel_113619/2262595161.py:47: UserWarning: Could not infer format, so each element will be parsed individually, falling back to `dateutil`. To ensure parsing is consistent and as-expected, please specify a format.\n",
      "  df[col] = pd.to_datetime(df[col])\n",
      "/tmp/ipykernel_113619/2262595161.py:47: UserWarning: Could not infer format, so each element will be parsed individually, falling back to `dateutil`. To ensure parsing is consistent and as-expected, please specify a format.\n",
      "  df[col] = pd.to_datetime(df[col])\n"
     ]
    },
    {
     "name": "stdout",
     "output_type": "stream",
     "text": [
      "Data successfully downloaded for users.\n"
     ]
    },
    {
     "name": "stderr",
     "output_type": "stream",
     "text": [
      "/tmp/ipykernel_113619/2262595161.py:47: UserWarning: Could not infer format, so each element will be parsed individually, falling back to `dateutil`. To ensure parsing is consistent and as-expected, please specify a format.\n",
      "  df[col] = pd.to_datetime(df[col])\n",
      "/tmp/ipykernel_113619/2262595161.py:47: UserWarning: Could not infer format, so each element will be parsed individually, falling back to `dateutil`. To ensure parsing is consistent and as-expected, please specify a format.\n",
      "  df[col] = pd.to_datetime(df[col])\n",
      "/tmp/ipykernel_113619/2262595161.py:47: UserWarning: Could not infer format, so each element will be parsed individually, falling back to `dateutil`. To ensure parsing is consistent and as-expected, please specify a format.\n",
      "  df[col] = pd.to_datetime(df[col])\n"
     ]
    }
   ],
   "source": [
    "df_dict = retrieve_hbase_data(spark)"
   ]
  },
  {
   "cell_type": "code",
   "execution_count": 18,
   "id": "f3dccf97-34fb-47d7-a4af-79c00f7617e9",
   "metadata": {},
   "outputs": [
    {
     "data": {
      "text/plain": [
       "dict_keys(['ad-clicks', 'buy-clicks', 'game-clicks', 'level-events', 'team', 'team-assignments', 'user-session', 'users'])"
      ]
     },
     "execution_count": 18,
     "metadata": {},
     "output_type": "execute_result"
    }
   ],
   "source": [
    "df_dict.keys()"
   ]
  },
  {
   "cell_type": "markdown",
   "id": "3ee8564e-08af-49cb-9307-49f5604f44d0",
   "metadata": {},
   "source": [
    "## EDA: User analysis"
   ]
  },
  {
   "cell_type": "markdown",
   "id": "7db0ff77-bae0-4998-add3-7e87d0e01df5",
   "metadata": {},
   "source": [
    "### Total users\n",
    "\n",
    "The number of users on the Flamingo Game platform."
   ]
  },
  {
   "cell_type": "code",
   "execution_count": null,
   "id": "b6103ac6-0d60-485c-8d50-6b4d9fa6769c",
   "metadata": {},
   "outputs": [],
   "source": [
    "df_dict['users'].distinct().count()"
   ]
  },
  {
   "cell_type": "code",
   "execution_count": null,
   "id": "cb550673-d991-488f-839b-ead46eeb9d54",
   "metadata": {},
   "outputs": [],
   "source": [
    "df_dict['users'].columns"
   ]
  },
  {
   "cell_type": "markdown",
   "id": "ea6b4f4d-1913-4718-983e-414e04f3d58b",
   "metadata": {},
   "source": [
    "### **Data enrichment - age groups**\n",
    "\n",
    "The user's date of birth will be compared to the current date to determine what their age would be in years. This can then be further used to group the users into age groups, which might be more averaged, but are typically easier for data manipulation and provide more generalised insights into the data."
   ]
  },
  {
   "cell_type": "code",
   "execution_count": null,
   "id": "eed727c0-5489-435a-b129-683ec5db198f",
   "metadata": {},
   "outputs": [],
   "source": [
    "# 365 days in a year on average\n",
    "df_dict['users'] = df_dict['users'].withColumn(\"ageInYears\", floor(datediff(current_date(), col(\"dob\")) / 365))"
   ]
  },
  {
   "cell_type": "code",
   "execution_count": null,
   "id": "ff57514a-31fc-454a-a04f-0461e93df171",
   "metadata": {},
   "outputs": [],
   "source": [
    "df_dict['users'] = df_dict['users'].withColumn(\n",
    "    \"ageGroup\",\n",
    "    when(col(\"ageInYears\") < 20, \"Under 20\")\n",
    "    .when((col(\"ageInYears\") >= 20) & (col(\"ageInYears\") < 40), \"20-39\")\n",
    "    .when((col(\"ageInYears\") >= 40) & (col(\"ageInYears\") < 60), \"40-59\")\n",
    "    .when((col(\"ageInYears\") >= 60) & (col(\"ageInYears\") < 80), \"60-79\")\n",
    "    .otherwise(\"80+\")\n",
    ")"
   ]
  },
  {
   "cell_type": "code",
   "execution_count": null,
   "id": "aa338003-9376-47fd-b8e9-d99dbadf9854",
   "metadata": {},
   "outputs": [],
   "source": [
    "total_users = df_dict['users'].distinct().count()\n",
    "\n",
    "group_counts = df_dict['users'].groupBy(\"ageGroup\").agg(count(\"*\").alias(\"count\"))\n",
    "group_counts = group_counts.withColumn(\"percentage\", round((col(\"count\") / total_users) * 100, 2))\n",
    "group_counts.show()"
   ]
  },
  {
   "cell_type": "markdown",
   "id": "b31dea9a-43a2-4a1e-9275-3b14be3960b7",
   "metadata": {},
   "source": [
    "### Age groups pie chart"
   ]
  },
  {
   "cell_type": "code",
   "execution_count": null,
   "id": "cf5b38d5-6496-4cd0-8fe7-448fe47457ef",
   "metadata": {},
   "outputs": [],
   "source": [
    "group_counts_pd = group_counts.toPandas()"
   ]
  },
  {
   "cell_type": "code",
   "execution_count": null,
   "id": "934eb9f4-f020-4029-a191-ce5c49586e17",
   "metadata": {},
   "outputs": [],
   "source": [
    "plt.figure(figsize = (6, 6))\n",
    "plt.pie(group_counts_pd[\"percentage\"], labels = group_counts_pd[\"ageGroup\"],\n",
    "        autopct = \"%1.1f%%\", startangle = 140, colors=[\"#ff9999\",\"#66b3ff\",\"#99ff99\",\"#ffcc99\",\"#c2c2f0\"])\n",
    "plt.title(\"Age Group Distribution\")\n",
    "plt.show()"
   ]
  },
  {
   "cell_type": "markdown",
   "id": "faba14b7-6816-490d-b4ea-6b010ddea87e",
   "metadata": {
    "jp-MarkdownHeadingCollapsed": true
   },
   "source": [
    "## EDA: geographic location analysis"
   ]
  },
  {
   "cell_type": "code",
   "execution_count": null,
   "id": "354e2c85-82ac-45aa-bc04-e2e435d03e61",
   "metadata": {},
   "outputs": [],
   "source": [
    "country_counts_pd = df_dict['users'].groupBy(\"country\").count().toPandas()\n",
    "\n",
    "# the GitHub file will be used to convert the ISO-2 country codes to latitude, longitude coordinates\n",
    "country_coords = pd.read_csv(\"https://gist.githubusercontent.com/tadast/8827699/raw/61b2107766d6fd51e2bd02d9f78f6be081340efc/countries_codes_and_coordinates.csv\",\n",
    "                            quotechar = '\"', skipinitialspace = True)\n",
    "\n",
    "# merge the two dataframes together based on the common ISO-2 code\n",
    "merged_data = country_counts.merge(country_coords, left_on = \"country\", right_on = \"Alpha-2 code\", how = \"inner\")\n",
    "\n",
    "# create the map object\n",
    "m = folium.Map(location=[20, 0], zoom_start=2)\n",
    "\n",
    "# add the heatmap layer\n",
    "heat_data = list(zip(merged_data[\"Latitude (average)\"], merged_data[\"Longitude (average)\"], merged_data[\"count\"]))\n",
    "HeatMap(heat_data).add_to(m)\n",
    "\n",
    "m.save(\"location-analysis.html\")\n",
    "m"
   ]
  },
  {
   "cell_type": "markdown",
   "id": "52c00b1b-31c4-47c4-8fc3-e27c286763ae",
   "metadata": {
    "jp-MarkdownHeadingCollapsed": true
   },
   "source": [
    "## EDA: platform type"
   ]
  },
  {
   "cell_type": "code",
   "execution_count": null,
   "id": "661e4cf6-0fb8-4486-9f04-49e9fbce0598",
   "metadata": {},
   "outputs": [],
   "source": [
    "platform_counts = df_dict['user-session'].groupBy(\"platformType\").count()\n",
    "platform_counts = platform_counts.withColumn(\"percentage\", round((col(\"count\") / total_count) * 100, 2))"
   ]
  },
  {
   "cell_type": "code",
   "execution_count": null,
   "id": "13eb56bb-5075-451e-9870-d7e9d9e72064",
   "metadata": {},
   "outputs": [],
   "source": [
    "platform_counts = platform_counts.toPandas()"
   ]
  },
  {
   "cell_type": "code",
   "execution_count": null,
   "id": "f6baef06-4283-4597-a130-9a4898d386f5",
   "metadata": {},
   "outputs": [],
   "source": [
    "plt.figure(figsize = (6, 6))\n",
    "plt.pie(platform_counts[\"percentage\"], labels = platform_counts[\"platformType\"],\n",
    "        autopct = \"%1.1f%%\", startangle = 140, colors = [\"#ff9999\",\"#66b3ff\",\"#99ff99\",\"#ffcc99\",\"#c2c2f0\"])\n",
    "plt.title(\"Platform Type Distribution\")\n",
    "plt.show()"
   ]
  },
  {
   "cell_type": "markdown",
   "id": "fd9ad737-fb2d-4a9c-aac5-c22af42a5af1",
   "metadata": {
    "jp-MarkdownHeadingCollapsed": true
   },
   "source": [
    "## EDA: Team analysis"
   ]
  },
  {
   "cell_type": "markdown",
   "id": "7166aeda-39e8-40a6-b7cd-25f8663c28c9",
   "metadata": {},
   "source": [
    "### Top 10 teams by 'strength'"
   ]
  },
  {
   "cell_type": "code",
   "execution_count": null,
   "id": "03a70077-32ad-405b-8717-a6222f2b6d9b",
   "metadata": {},
   "outputs": [],
   "source": [
    "strongest_teams = df_dict['team'].orderBy(\"strength\", ascending = False) \\\n",
    "    .select(\"teamId\", \"name\", \"strength\", \"teamCreationTime\").limit(10).toPandas()"
   ]
  },
  {
   "cell_type": "code",
   "execution_count": null,
   "id": "fc22dea6-d6bf-4427-a1a4-fe823e935f3b",
   "metadata": {},
   "outputs": [],
   "source": [
    "plt.figure(figsize = (10, 5))\n",
    "plt.bar(strongest_teams[\"name\"], strongest_teams[\"strength\"], color = \"skyblue\")\n",
    "plt.xlabel(\"Team Name\")\n",
    "plt.ylabel(\"Strength\")\n",
    "plt.title(\"Top 10 Teams by Strength\")\n",
    "plt.xticks(rotation = 45)"
   ]
  },
  {
   "cell_type": "markdown",
   "id": "fd7b64a9-253a-4c91-a03e-1839d3d4b2eb",
   "metadata": {},
   "source": [
    "### Top 10 oldest teams"
   ]
  },
  {
   "cell_type": "code",
   "execution_count": null,
   "id": "3ba936b4-7405-45ab-8f3e-452e9713424d",
   "metadata": {},
   "outputs": [],
   "source": [
    "df_dict['team'].orderBy(\"teamCreationTime\", ascending = True) \\\n",
    "    .select(\"teamId\", \"name\", \"strength\", \"teamCreationTime\").show(10)"
   ]
  },
  {
   "cell_type": "code",
   "execution_count": null,
   "id": "5d3adbd8-7f98-49e3-8d3c-1210957fc871",
   "metadata": {},
   "outputs": [],
   "source": [
    "strongest_teams = df_dict['team'].select(\"strength\", \"teamCreationTime\")\n",
    "strongest_counts = strongest_teams.withColumn(\"teamCreation\", floor(datediff(current_date(), col(\"teamCreationTime\")))).toPandas()"
   ]
  },
  {
   "cell_type": "code",
   "execution_count": null,
   "id": "d3f4663b-92aa-4cd7-9cdc-9b48899c8ebd",
   "metadata": {},
   "outputs": [],
   "source": [
    "plt.figure(figsize = (8, 5))\n",
    "plt.hist(strongest_counts[\"strength\"], bins = 35, color = \"green\", edgecolor = \"black\", alpha = 0.7)\n",
    "plt.xlabel(\"Strength\")\n",
    "plt.ylabel(\"Frequency\")\n",
    "plt.title(\"Distribution of Teams Strengths\")\n",
    "plt.grid(False)\n",
    "plt.show()"
   ]
  },
  {
   "cell_type": "markdown",
   "id": "fedf3926-7a92-4a94-a25b-a6552da5d9f7",
   "metadata": {
    "jp-MarkdownHeadingCollapsed": true
   },
   "source": [
    "## EDA: Adverts and purchases"
   ]
  },
  {
   "cell_type": "markdown",
   "id": "07868066-f08e-4070-aedc-b8f3b68b6e39",
   "metadata": {},
   "source": [
    "### Minimum and maximum prices"
   ]
  },
  {
   "cell_type": "code",
   "execution_count": null,
   "id": "751b7dfc-48f9-475d-bf4a-491693983b0c",
   "metadata": {},
   "outputs": [],
   "source": [
    "df_dict['buy-clicks'].agg(min(\"price\").alias(\"minimum_price\"),\n",
    "                          max(\"price\").alias(\"maximum_price\")).show()"
   ]
  },
  {
   "cell_type": "markdown",
   "id": "ee436bfd-eb9d-4218-817f-d4f54443b83b",
   "metadata": {},
   "source": [
    "### Item purchase frequency"
   ]
  },
  {
   "cell_type": "code",
   "execution_count": null,
   "id": "87964ade-65a8-4f0e-8c8e-3766709d909e",
   "metadata": {},
   "outputs": [],
   "source": [
    "df_dict['buy-clicks'].groupBy(\"price\", \"buyId\").count() \\\n",
    "    .orderBy(\"count\", ascending = False).show()"
   ]
  },
  {
   "cell_type": "markdown",
   "id": "27621f7b-59b5-4ba7-b233-4065862e5534",
   "metadata": {},
   "source": [
    "### Top 10 spenders"
   ]
  },
  {
   "cell_type": "code",
   "execution_count": null,
   "id": "86245683-7da9-4bab-a701-d4a7fad3d0df",
   "metadata": {},
   "outputs": [],
   "source": [
    "top_spenders = df_dict['buy-clicks'].groupBy(\"userId\") \\\n",
    "    .agg(sum(\"price\").alias(\"total_spent\")) \\\n",
    "    .orderBy(col(\"total_spent\"), ascending = False).limit(10)"
   ]
  },
  {
   "cell_type": "code",
   "execution_count": null,
   "id": "bf745109-4b8c-4072-bb8e-447dc1bb94a3",
   "metadata": {},
   "outputs": [],
   "source": [
    "top_spenders.show(10)"
   ]
  },
  {
   "cell_type": "code",
   "execution_count": null,
   "id": "b7afc676-a5bf-4fb9-9cb6-131b73b49cbe",
   "metadata": {},
   "outputs": [],
   "source": [
    "top_users_spenders_combined = top_users.join(df_dict['users'], on = \"userId\", how = \"inner\")"
   ]
  },
  {
   "cell_type": "code",
   "execution_count": null,
   "id": "fe412a29-a349-41e3-92fd-a579d204906c",
   "metadata": {},
   "outputs": [],
   "source": [
    "# converting to a Pandas DataFrame for visuaisation\n",
    "top_users_spenders_combined = top_users_spenders_combined.toPandas()"
   ]
  },
  {
   "cell_type": "code",
   "execution_count": null,
   "id": "4ad8c215-56e7-4e44-876b-79655c4e6126",
   "metadata": {},
   "outputs": [],
   "source": [
    "top_users_spenders_combined = top_users_spenders_combined.sort_values(by = \"total_spent\", ascending = False)"
   ]
  },
  {
   "cell_type": "code",
   "execution_count": null,
   "id": "74f21769-1389-4ebe-9b78-5c7310ea566a",
   "metadata": {},
   "outputs": [],
   "source": [
    "def get_age_color(group):\n",
    "    if group == \"Under 20\":\n",
    "        return \"red\"\n",
    "    elif group == \"20-39\":\n",
    "        return \"blue\"\n",
    "    elif group == \"40-59\":\n",
    "        return \"green\"\n",
    "    elif group == \"60-79\":\n",
    "        return \"orange\"\n",
    "    else:\n",
    "        return \"purple\""
   ]
  },
  {
   "cell_type": "code",
   "execution_count": null,
   "id": "72216ae4-0b33-402b-82fb-9bdd11d21c90",
   "metadata": {},
   "outputs": [],
   "source": [
    "colours = [get_age_color(age) for age in df_combined[\"ageGroup\"]]"
   ]
  },
  {
   "cell_type": "code",
   "execution_count": null,
   "id": "c427479a-2489-48e3-b498-69ee21c5ac9b",
   "metadata": {},
   "outputs": [],
   "source": [
    "plt.figure(figsize = (10, 5))\n",
    "plt.bar(df_combined[\"userId\"].astype(str), df_combined[\"total_spent\"], color = colours)\n",
    "plt.xlabel(\"User ID\")\n",
    "plt.ylabel(\"Total Spent\")\n",
    "plt.title(\"Top 10 Users by Spending\")\n",
    "plt.xticks(rotation = 45)  # Rotate labels for readability\n",
    "age_group_colors = {\n",
    "    \"Under 20\": \"red\",\n",
    "    \"20-39\": \"blue\",\n",
    "    \"40-59\": \"green\",\n",
    "    \"60-79\": \"orange\",\n",
    "    \"80+\": \"purple\"\n",
    "}\n",
    "legend_patches = [mpatches.Patch(color = color, label = label) for label, color in age_group_colors.items()]\n",
    "plt.legend(handles = legend_patches, title = \"Age Groups\")\n",
    "plt.show()"
   ]
  },
  {
   "cell_type": "markdown",
   "id": "23fb8a90-a4e0-4f57-9b45-d5b2661fe989",
   "metadata": {
    "jp-MarkdownHeadingCollapsed": true
   },
   "source": [
    "## Machine Learning: Clustering"
   ]
  },
  {
   "cell_type": "markdown",
   "id": "73bdab91-fd6a-40cb-ac7b-6e4d68053bdb",
   "metadata": {
    "jp-MarkdownHeadingCollapsed": true
   },
   "source": [
    "### Preprocessing and optimisation"
   ]
  },
  {
   "cell_type": "markdown",
   "id": "67d0b9f6-e561-4c12-889d-db193e5aaa50",
   "metadata": {},
   "source": [
    "K-means clustering will be used to create clusters for determining the number of ads a user can click vs. how much money they actually spend on the ads in total."
   ]
  },
  {
   "cell_type": "code",
   "execution_count": 37,
   "id": "ad0f1fd8-3ded-4bbc-a7ab-61b3d105dcb1",
   "metadata": {},
   "outputs": [],
   "source": [
    "# get the revenue generated by each user via aggregation and summarisation\n",
    "revenue_by_user = df_dict['buy-clicks'].groupBy('userId').agg(sum(col('price')).alias(\"userRevenue\"))"
   ]
  },
  {
   "cell_type": "code",
   "execution_count": 20,
   "id": "04e84f8d-2966-4332-bf15-c2314b1af69a",
   "metadata": {},
   "outputs": [],
   "source": [
    "# the number of ads clicked by each user\n",
    "num_of_ads_clicked = df_dict['ad-clicks'].groupBy('userId').count() \\\n",
    "    .withColumnRenamed(\"count\", \"totalAdClicks\")"
   ]
  },
  {
   "cell_type": "code",
   "execution_count": 21,
   "id": "f8ce7041-3cf0-4337-b9b7-6eda62f2c6ad",
   "metadata": {},
   "outputs": [],
   "source": [
    "combined_revenue_ad_clicks = revenue_by_user.join(num_of_ads_clicked, on = \"userId\", how = \"inner\")"
   ]
  },
  {
   "cell_type": "code",
   "execution_count": 22,
   "id": "601d951b-716a-4412-8bcc-8072b9de3c49",
   "metadata": {},
   "outputs": [],
   "source": [
    "# remove userId as it does not add any insight to the relationship between revenue from users to the number of ads clicked\n",
    "combined_revenue_ad_clicks = combined_revenue_ad_clicks.drop(\"userId\")"
   ]
  },
  {
   "cell_type": "code",
   "execution_count": 23,
   "id": "bc8faf5f-e5b8-4d74-b115-7cf99f630576",
   "metadata": {},
   "outputs": [],
   "source": [
    "assembler = VectorAssembler(inputCols=[\"userRevenue\", \"totalAdClicks\"], outputCol=\"features\")\n",
    "# only the user revenue and the total ads clicked are required\n",
    "data_vector = assembler.transform(combined_revenue_ad_clicks.select(\"userRevenue\", \"totalAdClicks\"))"
   ]
  },
  {
   "cell_type": "code",
   "execution_count": 24,
   "id": "5a41a777-9212-4ba9-93e3-e173b0052c72",
   "metadata": {},
   "outputs": [],
   "source": [
    "def elbow_method_kmeans(data_vector: DataFrame) -> None:\n",
    "    \"\"\"\n",
    "    Perform the Elbow Method to determine the optimal number of clusters for KMeans. Results are displayed, and a\n",
    "    graph of the WCSS scores is shown so the user can decide on the optimal k value.\n",
    "\n",
    "    Parameters:\n",
    "        - data_vector (PySpark DataFrame): a preprocessed dataframe that contains a 'features' column that will be\n",
    "        used for applying KMeans.\n",
    "    \"\"\"\n",
    "    wcss_scores = []  # stores WCSS values\n",
    "    silhouette_scores = [] # store silhouette scores\n",
    "    k_values = range(2, 12)  # test k values from 2 to 9\n",
    "    evaluator = ClusteringEvaluator(featuresCol = \"features\", predictionCol = \"prediction\", metricName = \"silhouette\")\n",
    "    \n",
    "    for k in k_values:\n",
    "        print(f\"Training for cluster size {k}\")\n",
    "        kmeans = KMeans(featuresCol = \"features\", k = k, seed = 42)\n",
    "        model = kmeans.fit(data_vector)\n",
    "        predictions = model.transform(data_vector)\n",
    "        silhouette_score = evaluator.evaluate(predictions)\n",
    "        \n",
    "        print(\"Silhouette Score:\", silhouette_score)\n",
    "        print(\"WCSS: \", model.summary.trainingCost, end = \"\\n-------------------------\\n\")\n",
    "        \n",
    "        wcss_scores.append(model.summary.trainingCost)  # WCSS (Within-Cluster Sum of Squares)\n",
    "        silhouette_scores.append(silhouette_score)\n",
    "\n",
    "    plt.figure(figsize=(8, 5))\n",
    "    plt.plot(k_values, wcss_scores, marker = 'o', linestyle = '--')\n",
    "    plt.xlabel(\"Number of Clusters (k)\")\n",
    "    plt.ylabel(\"WCSS (Within-Cluster Sum of Squares)\")\n",
    "    plt.title(\"Elbow Method for Optimal k\")\n",
    "    plt.show()"
   ]
  },
  {
   "cell_type": "code",
   "execution_count": 25,
   "id": "6f90b714-7604-41e9-9ae6-2f0189f1bec7",
   "metadata": {},
   "outputs": [
    {
     "name": "stdout",
     "output_type": "stream",
     "text": [
      "Training for cluster size 2\n"
     ]
    },
    {
     "name": "stderr",
     "output_type": "stream",
     "text": [
      "                                                                                "
     ]
    },
    {
     "name": "stdout",
     "output_type": "stream",
     "text": [
      "Silhouette Score: 0.815078187001984\n",
      "WCSS:  397756.703195797\n",
      "-------------------------\n",
      "Training for cluster size 3\n"
     ]
    },
    {
     "name": "stderr",
     "output_type": "stream",
     "text": [
      "                                                                                "
     ]
    },
    {
     "name": "stdout",
     "output_type": "stream",
     "text": [
      "Silhouette Score: 0.6629119726622588\n",
      "WCSS:  244528.8580592992\n",
      "-------------------------\n",
      "Training for cluster size 4\n"
     ]
    },
    {
     "name": "stderr",
     "output_type": "stream",
     "text": [
      "                                                                                "
     ]
    },
    {
     "name": "stdout",
     "output_type": "stream",
     "text": [
      "Silhouette Score: 0.6014203844015832\n",
      "WCSS:  171986.85494596406\n",
      "-------------------------\n",
      "Training for cluster size 5\n",
      "Silhouette Score: 0.6126506989231827\n",
      "WCSS:  128572.2108400063\n",
      "-------------------------\n",
      "Training for cluster size 6\n",
      "Silhouette Score: 0.6216081703909593\n",
      "WCSS:  99386.492059552\n",
      "-------------------------\n",
      "Training for cluster size 7\n"
     ]
    },
    {
     "name": "stderr",
     "output_type": "stream",
     "text": [
      "                                                                                "
     ]
    },
    {
     "name": "stdout",
     "output_type": "stream",
     "text": [
      "Silhouette Score: 0.6081741959620383\n",
      "WCSS:  94810.39864131666\n",
      "-------------------------\n",
      "Training for cluster size 8\n"
     ]
    },
    {
     "name": "stderr",
     "output_type": "stream",
     "text": [
      "                                                                                "
     ]
    },
    {
     "name": "stdout",
     "output_type": "stream",
     "text": [
      "Silhouette Score: 0.5847883176142692\n",
      "WCSS:  76404.21706292809\n",
      "-------------------------\n",
      "Training for cluster size 9\n",
      "Silhouette Score: 0.5457902548937302\n",
      "WCSS:  68225.61933396819\n",
      "-------------------------\n",
      "Training for cluster size 10\n",
      "Silhouette Score: 0.5681673874575263\n",
      "WCSS:  57562.51028538294\n",
      "-------------------------\n",
      "Training for cluster size 11\n",
      "Silhouette Score: 0.5407764336056853\n",
      "WCSS:  54664.01200368661\n",
      "-------------------------\n"
     ]
    },
    {
     "data": {
      "image/png": "[encoded data removed]",
      "text/plain": [
       "<Figure size 800x500 with 1 Axes>"
      ]
     },
     "metadata": {},
     "output_type": "display_data"
    }
   ],
   "source": [
    "elbow_method_kmeans(data_vector)"
   ]
  },
  {
   "cell_type": "markdown",
   "id": "cd8a60c5-e4c6-40b9-b607-59e210cfd5f0",
   "metadata": {},
   "source": [
    "The optimal k value appears to be 6, therefore, this will be used to train the final clustering model."
   ]
  },
  {
   "cell_type": "code",
   "execution_count": 26,
   "id": "77e03e42-5d63-43a7-9b21-220619bd8c52",
   "metadata": {},
   "outputs": [],
   "source": [
    "kmeans = KMeans(featuresCol = \"features\", k = 6, seed = 42)  # seed is used to improve reproducibility\n",
    "model = kmeans.fit(data_vector)"
   ]
  },
  {
   "cell_type": "markdown",
   "id": "d6189775-8932-4873-a5c9-f390f372fcec",
   "metadata": {
    "jp-MarkdownHeadingCollapsed": true
   },
   "source": [
    "### Evaluation"
   ]
  },
  {
   "cell_type": "code",
   "execution_count": 27,
   "id": "b389ef91-d069-4ad9-8698-410d6595a288",
   "metadata": {},
   "outputs": [],
   "source": [
    "# get the silhouette scores\n",
    "evaluator = ClusteringEvaluator(featuresCol = \"features\", predictionCol = \"prediction\", metricName = \"silhouette\")\n",
    "predictions = model.transform(data_vector)"
   ]
  },
  {
   "cell_type": "code",
   "execution_count": 28,
   "id": "cfcba111-f709-4b4a-87b9-0c66580e4d5b",
   "metadata": {},
   "outputs": [
    {
     "name": "stdout",
     "output_type": "stream",
     "text": [
      "WCSS score for k = 6:  99386.492059552\n",
      "Silhouette score for k = 6:  0.6216081703909593\n"
     ]
    }
   ],
   "source": [
    "print(\"WCSS score for k = 6: \", model.summary.trainingCost)\n",
    "print(\"Silhouette score for k = 6: \", evaluator.evaluate(predictions))"
   ]
  },
  {
   "cell_type": "markdown",
   "id": "dc64be91-987b-4af8-88c1-411189d005c0",
   "metadata": {},
   "source": [
    "Getting the cluster size distribution."
   ]
  },
  {
   "cell_type": "code",
   "execution_count": 29,
   "id": "2216c3b6-5b22-4f0d-a294-cfda7df3f4f9",
   "metadata": {},
   "outputs": [],
   "source": [
    "predictions_pd = predictions.groupBy(\"prediction\").count().toPandas()"
   ]
  },
  {
   "cell_type": "code",
   "execution_count": 30,
   "id": "485f1c0b-6778-4e1e-9867-62d954fc9b35",
   "metadata": {},
   "outputs": [
    {
     "data": {
      "image/png": "[encoded data removed]",
      "text/plain": [
       "<Figure size 640x480 with 1 Axes>"
      ]
     },
     "metadata": {},
     "output_type": "display_data"
    }
   ],
   "source": [
    "plt.bar(predictions_pd['prediction'], predictions_pd['count'])\n",
    "plt.xlabel(\"Cluster\")\n",
    "plt.ylabel(\"Number of Data Points\")\n",
    "plt.title(\"Cluster Size Distribution\")\n",
    "plt.show()"
   ]
  },
  {
   "cell_type": "code",
   "execution_count": 36,
   "id": "09cffa72-ca52-4cab-a68b-c4d00e70167a",
   "metadata": {},
   "outputs": [
    {
     "data": {
      "image/png": "[encoded data removed]",
      "text/plain": [
       "<Figure size 640x480 with 1 Axes>"
      ]
     },
     "metadata": {},
     "output_type": "display_data"
    }
   ],
   "source": [
    "plt.scatter(data_vector.select(\"userRevenue\").collect(), data_vector.select(\"totalAdClicks\").collect(),\n",
    "            c = predictions.select(\"prediction\").collect(), cmap = \"viridis\")\n",
    "plt.xlabel(\"User Revenue\")\n",
    "plt.ylabel(\"Ad Clicks\")\n",
    "plt.title(\"Cluster Visualization\")\n",
    "plt.show()"
   ]
  },
  {
   "cell_type": "markdown",
   "id": "90c62aa2-04ef-42da-8637-e43ba0367d5a",
   "metadata": {
    "jp-MarkdownHeadingCollapsed": true
   },
   "source": [
    "## Machine Learning: Classification"
   ]
  },
  {
   "cell_type": "markdown",
   "id": "a6f32be2-4ec5-45d3-9cde-cab210f6bb3a",
   "metadata": {
    "jp-MarkdownHeadingCollapsed": true
   },
   "source": [
    "### Preprocessing"
   ]
  },
  {
   "cell_type": "code",
   "execution_count": 39,
   "id": "d0484111-558e-4aab-9e46-d2f568871a89",
   "metadata": {},
   "outputs": [],
   "source": [
    "user_window = Window.partitionBy(\"userId\").orderBy(\"timestamp\")\n",
    "\n",
    "# calculate sesssion duration using 'start' and 'end' labels from 'sessionType'\n",
    "tmp = df_dict['user-session'].withColumn(\n",
    "    \"sessionDuration\",\n",
    "    when(\n",
    "        col(\"sessionType\") == \"end\",\n",
    "        unix_timestamp(col(\"timestamp\")) - \n",
    "        unix_timestamp(lag(\"timestamp\").over(user_window))\n",
    "    ).otherwise(None)\n",
    ")\n",
    "\n",
    "# retrieve the time since the user's last session\n",
    "tmp = tmp.withColumn(\n",
    "    \"timeSinceLastSession\",\n",
    "    unix_timestamp(col(\"timestamp\")) - \n",
    "    unix_timestamp(lag(\"timestamp\").over(user_window))\n",
    ")\n",
    "\n",
    "# count how many sessions the user has had\n",
    "tmp = tmp.withColumn(\n",
    "    \"totalSessions\",\n",
    "    count(\"*\").over(Window.partitionBy(\"userId\"))\n",
    ")\n",
    "\n",
    "# get the average amount of time between sessions for that user\n",
    "tmp = tmp.withColumn(\n",
    "    \"avgTimeBetweenSessions\",\n",
    "    avg(\"timeSinceLastSession\").over(Window.partitionBy(\"userId\"))\n",
    ")\n",
    "\n",
    "# get the time of day, then categorise into 'morning', 'afternoon', and 'evening'\n",
    "tmp = tmp.withColumn(\n",
    "    \"hourOfDay\", \n",
    "    hour(col(\"timestamp\"))\n",
    ").withColumn(\n",
    "    \"timeOfDay\",\n",
    "    when((col(\"hourOfDay\") >= 6) & (col(\"hourOfDay\") < 12), \"morning\")\n",
    "     .when((col(\"hourOfDay\") >= 12) & (col(\"hourOfDay\") < 18), \"afternoon\")\n",
    "     .otherwise(\"evening\")\n",
    ")\n",
    "\n",
    "# target variable\n",
    "tmp = tmp.withColumn(\n",
    "    \"nextSessionTime\",\n",
    "    lead(unix_timestamp(\"timestamp\")).over(user_window)\n",
    ").withColumn(\n",
    "    \"retentionLabel\",\n",
    "    when(\n",
    "        (col(\"nextSessionTime\") - unix_timestamp(col(\"timestamp\"))) <= 86400, 1  # 86400 sec = 24h\n",
    "    ).otherwise(0)\n",
    ")\n",
    "\n",
    "# feature selection\n",
    "feature_cols = [\n",
    "    \"sessionDuration\",\n",
    "    \"timeSinceLastSession\",\n",
    "    \"totalSessions\",\n",
    "    \"avgTimeBetweenSessions\",\n",
    "    \"hourOfDay\",\n",
    "    \"retentionLabel\"\n",
    "]\n",
    "retention_df = tmp.select(feature_cols).na.drop()"
   ]
  },
  {
   "cell_type": "code",
   "execution_count": 40,
   "id": "20190bc9-a015-40f5-b2bb-fe96a392e179",
   "metadata": {},
   "outputs": [],
   "source": [
    "# remove invalid session durations (which can arise due to the use of 'Window' and overlapping times)\n",
    "retention_df_clean = retention_df.filter(col(\"sessionDuration\") > 0)\n",
    "\n",
    "# simplying the relation between session duration and the average time between sessions for the respective user\n",
    "# using a ratio (sessionIntensity)\n",
    "# additionally, perform feature enrichment by converting the hour of the day into a binary variable 'isLateNight'\n",
    "retention_df_features = retention_df_clean.withColumn(\n",
    "    \"sessionIntensity\", \n",
    "    col(\"sessionDuration\") / col(\"avgTimeBetweenSessions\")\n",
    ").withColumn(\n",
    "    \"isLateNight\",\n",
    "    when((col(\"hourOfDay\") >= 22) | (col(\"hourOfDay\") <= 6), 1).otherwise(0)\n",
    ")"
   ]
  },
  {
   "cell_type": "code",
   "execution_count": 41,
   "id": "c703bd9f-eef0-4bd8-b885-18f2a915e440",
   "metadata": {},
   "outputs": [
    {
     "name": "stdout",
     "output_type": "stream",
     "text": [
      "+---------------+-------------+----------------------+---------+--------------+-------------------+-----------+\n",
      "|sessionDuration|totalSessions|avgTimeBetweenSessions|hourOfDay|retentionLabel|   sessionIntensity|isLateNight|\n",
      "+---------------+-------------+----------------------+---------+--------------+-------------------+-----------+\n",
      "|          88200|            8|     90257.14285714286|       22|             1| 0.9772079772079773|          1|\n",
      "|         145800|            8|     90257.14285714286|       14|             1| 1.6153846153846154|          0|\n",
      "|         180000|            8|     90257.14285714286|       16|             1| 1.9943019943019944|          0|\n",
      "|         217800|            8|     90257.14285714286|        5|             0| 2.4131054131054133|          1|\n",
      "|         145800|           14|    121185.76923076923|       15|             1|  1.203111561080731|          0|\n",
      "|         180000|           14|    121185.76923076923|       17|             1| 1.4853229149144829|          0|\n",
      "|         217800|           14|    121185.76923076923|        6|             1| 1.7972407270465243|          1|\n",
      "|         259200|           14|    121185.76923076923|        6|             1|  2.138864997476855|          1|\n",
      "|         304200|           14|    121185.76923076923|       18|             1|  2.510195726205476|          0|\n",
      "|         352800|           14|    121185.76923076923|       20|             0|  2.911232913232386|          0|\n",
      "|          16200|           10|              127800.0|       17|             1| 0.1267605633802817|          0|\n",
      "|         217800|           10|              127800.0|        6|             1|  1.704225352112676|          1|\n",
      "|         259200|           10|              127800.0|        6|             1|  2.028169014084507|          1|\n",
      "|         304200|           10|              127800.0|       18|             1|  2.380281690140845|          0|\n",
      "|         352800|           10|              127800.0|       20|             0|   2.76056338028169|          0|\n",
      "|         268200|            2|              268200.0|       20|             0|                1.0|          0|\n",
      "|          28800|            4|               96000.0|        7|             1|                0.3|          0|\n",
      "|         259200|            4|               96000.0|        7|             0|                2.7|          0|\n",
      "|          39600|           12|    123054.54545454546|       15|             1|0.32180851063829785|          0|\n",
      "|         180000|           12|    123054.54545454546|       17|             1| 1.4627659574468086|          0|\n",
      "+---------------+-------------+----------------------+---------+--------------+-------------------+-----------+\n",
      "only showing top 20 rows\n",
      "\n"
     ]
    }
   ],
   "source": [
    "retention_df.show()"
   ]
  },
  {
   "cell_type": "code",
   "execution_count": 54,
   "id": "26f3abec-50d6-40fb-a426-68c5855d9391",
   "metadata": {},
   "outputs": [],
   "source": [
    "# using one hot encoding for hourOfDay as it can mislead the model into thinking the sequential nature\n",
    "# has importance, when it does not\n",
    "hour_indexer = StringIndexer(inputCol=\"hourOfDay\", outputCol=\"hourIndex\")\n",
    "indexer_model = hour_indexer.fit(retention_df)\n",
    "retention_df = indexer_model.transform(retention_df)\n",
    "\n",
    "hour_encoder = OneHotEncoder(\n",
    "    inputCols=[\"hourIndex\"],\n",
    "    outputCols=[\"hourVec\"],\n",
    "    dropLast=False\n",
    ")\n",
    "encoder_model = hour_encoder.fit(retention_df)\n",
    "retention_df = encoder_model.transform(retention_df)\n",
    "\n",
    "# to help resolve the several duplicate instances in 'avgTimeBetweenSessions', this can be combined with the\n",
    "# session duration to form a recency ratio, creating more generalised and rich insights\n",
    "retention_df = retention_df.withColumn(\n",
    "    \"recencyRatio\", \n",
    "    col(\"sessionDuration\") / (col(\"avgTimeBetweenSessions\") + 1e-6)\n",
    ")"
   ]
  },
  {
   "cell_type": "code",
   "execution_count": 63,
   "id": "6e560606-f217-4560-9379-969f9f08ddbf",
   "metadata": {},
   "outputs": [
    {
     "name": "stdout",
     "output_type": "stream",
     "text": [
      "+-------------------+-------------+-----------+---------------+-------------------+\n",
      "|   sessionIntensity|totalSessions|isLateNight|        hourVec|       recencyRatio|\n",
      "+-------------------+-------------+-----------+---------------+-------------------+\n",
      "| 0.9772079772079773|            8|          1| (24,[9],[1.0])| 0.9772079771971504|\n",
      "| 1.6153846153846154|            8|          0|(24,[17],[1.0])|  1.615384615366718|\n",
      "| 1.9943019943019944|            8|          0|(24,[18],[1.0])| 1.9943019942798987|\n",
      "| 2.4131054131054133|            8|          1|(24,[11],[1.0])| 2.4131054130786773|\n",
      "|  1.203111561080731|           14|          0| (24,[4],[1.0])| 1.2031115610708034|\n",
      "| 1.4853229149144829|           14|          0| (24,[3],[1.0])| 1.4853229149022262|\n",
      "| 1.7972407270465243|           14|          1| (24,[0],[1.0])|  1.797240727031694|\n",
      "|  2.138864997476855|           14|          1| (24,[0],[1.0])| 2.1388649974592058|\n",
      "|  2.510195726205476|           14|          0| (24,[2],[1.0])| 2.5101957261847625|\n",
      "|  2.911232913232386|           14|          0| (24,[1],[1.0])| 2.9112329132083636|\n",
      "| 0.1267605633802817|           10|          0| (24,[3],[1.0])|0.12676056337928984|\n",
      "|  1.704225352112676|           10|          1| (24,[0],[1.0])| 1.7042253520993411|\n",
      "|  2.028169014084507|           10|          1| (24,[0],[1.0])| 2.0281690140686375|\n",
      "|  2.380281690140845|           10|          0| (24,[2],[1.0])| 2.3802816901222204|\n",
      "|   2.76056338028169|           10|          0| (24,[1],[1.0])| 2.7605633802600895|\n",
      "|                1.0|            2|          0| (24,[1],[1.0])| 0.9999999999962714|\n",
      "|                0.3|            4|          0| (24,[6],[1.0])|0.29999999999687504|\n",
      "|                2.7|            4|          0| (24,[6],[1.0])|  2.699999999971875|\n",
      "|0.32180851063829785|           12|          0| (24,[4],[1.0])| 0.3218085106356827|\n",
      "| 1.4627659574468086|           12|          0| (24,[3],[1.0])| 1.4627659574349214|\n",
      "+-------------------+-------------+-----------+---------------+-------------------+\n",
      "only showing top 20 rows\n",
      "\n"
     ]
    }
   ],
   "source": [
    "retention_df.select('sessionIntensity', 'totalSessions', 'isLateNight', 'hourVec', 'recencyRatio').show()"
   ]
  },
  {
   "cell_type": "markdown",
   "id": "136b5dca-cf42-4179-8a55-da871169ed29",
   "metadata": {
    "jp-MarkdownHeadingCollapsed": true
   },
   "source": [
    "### Retention rate distribution"
   ]
  },
  {
   "cell_type": "code",
   "execution_count": 46,
   "id": "6d9c1edc-77c0-4946-93df-044121c3e3e9",
   "metadata": {},
   "outputs": [
    {
     "name": "stdout",
     "output_type": "stream",
     "text": [
      "+--------------+-----+----------+\n",
      "|retentionLabel|count|percentage|\n",
      "+--------------+-----+----------+\n",
      "|             1| 3145|     82.59|\n",
      "|             0| 1106|     29.04|\n",
      "+--------------+-----+----------+\n",
      "\n"
     ]
    }
   ],
   "source": [
    "retention = retention_df.distinct().count()\n",
    "retention_count = retention_df.groupBy(\"retentionLabel\").agg(count(\"*\").alias(\"count\"))\n",
    "retention_count = retention_count.withColumn(\"percentage\", round((col(\"count\") / retention) * 100, 2))\n",
    "retention_count.show()"
   ]
  },
  {
   "cell_type": "code",
   "execution_count": 47,
   "id": "4464f089-7085-4874-a068-2ffb5d7c8efb",
   "metadata": {},
   "outputs": [],
   "source": [
    "retention_count_pd = retention_count.toPandas()"
   ]
  },
  {
   "cell_type": "code",
   "execution_count": 51,
   "id": "ce0d8f0b-9f56-4737-9acf-d1e5353e0611",
   "metadata": {},
   "outputs": [
    {
     "data": {
      "image/png": "[encoded data removed]",
      "text/plain": [
       "<Figure size 600x600 with 1 Axes>"
      ]
     },
     "metadata": {},
     "output_type": "display_data"
    }
   ],
   "source": [
    "plt.figure(figsize = (6, 6))\n",
    "plt.pie(retention_count_pd[\"percentage\"], labels = ['Played again within 24 hours', 'Did NOT play again within 24 hours'],\n",
    "        autopct = \"%1.1f%%\", startangle = 140, colors=[\"#ff9999\",\"#66b3ff\",\"#99ff99\",\"#ffcc99\",\"#c2c2f0\"])\n",
    "plt.title(\"Retentional Rate Distribution\")\n",
    "plt.show()"
   ]
  },
  {
   "cell_type": "code",
   "execution_count": 87,
   "id": "77f300be-6419-4afa-bbe9-65107cb53813",
   "metadata": {},
   "outputs": [],
   "source": [
    "class_counts = retention_df.groupBy(\"retentionLabel\").count()\n",
    "majority = class_counts.filter(col('retentionLabel') == 1).first()\n",
    "minority = class_counts.filter(col('retentionLabel') == 0).first()\n",
    "\n",
    "majority_count = majority['count']\n",
    "minority_count = minority['count']"
   ]
  },
  {
   "cell_type": "code",
   "execution_count": 89,
   "id": "3438e116-9f7a-4f9e-b6de-217dac31b9c8",
   "metadata": {},
   "outputs": [
    {
     "name": "stdout",
     "output_type": "stream",
     "text": [
      "+--------------+-----+\n",
      "|retentionLabel|count|\n",
      "+--------------+-----+\n",
      "|             1| 1126|\n",
      "|             0| 1106|\n",
      "+--------------+-----+\n",
      "\n"
     ]
    }
   ],
   "source": [
    "# calculate class distribution\n",
    "count_dict = {row['retentionLabel']: row['count'] for row in class_counts.collect()}\n",
    "\n",
    "# determine sampling fractions\n",
    "minority_class = [k for k, v in count_dict.items() if v == minority_count][0]\n",
    "majority_class = [k for k, v in count_dict.items() if v == majority_count][0]\n",
    "\n",
    "# calculate fraction to sample (which will be applied to the majority class)\n",
    "fraction = count_dict[minority_class] / count_dict[majority_class]\n",
    "\n",
    "fractions = {\n",
    "    majority_class: fraction,  # undersample majority\n",
    "    minority_class: 1.0        # keep all minority samples\n",
    "}\n",
    "\n",
    "undersampled_retention_df = retention_df.sampleBy('retentionLabel', fractions = fractions, seed = 42)\n",
    "\n",
    "undersampled_retention_df.groupBy('retentionLabel').count().show()"
   ]
  },
  {
   "cell_type": "code",
   "execution_count": 102,
   "id": "c0a95bb9-23a7-41bf-a316-af7fae734421",
   "metadata": {},
   "outputs": [
    {
     "name": "stdout",
     "output_type": "stream",
     "text": [
      "+--------------+-----+----------+\n",
      "|retentionLabel|count|percentage|\n",
      "+--------------+-----+----------+\n",
      "|             1| 1126|     54.29|\n",
      "|             0| 1106|     53.33|\n",
      "+--------------+-----+----------+\n",
      "\n"
     ]
    }
   ],
   "source": [
    "retention = undersampled_retention_df.distinct().count()\n",
    "retention_count = undersampled_retention_df.groupBy(\"retentionLabel\").agg(count(\"*\").alias(\"count\"))\n",
    "retention_count = retention_count.withColumn(\"percentage\", round((col(\"count\") / retention) * 100, 2))\n",
    "retention_count.show()\n",
    "undersampled_retention_count_pd = retention_count.toPandas()"
   ]
  },
  {
   "cell_type": "code",
   "execution_count": 104,
   "id": "1add2f69-6d6e-44a8-bd6d-651c1caa60a5",
   "metadata": {},
   "outputs": [
    {
     "data": {
      "image/png": "[encoded data removed]",
      "text/plain": [
       "<Figure size 600x600 with 1 Axes>"
      ]
     },
     "metadata": {},
     "output_type": "display_data"
    }
   ],
   "source": [
    "plt.figure(figsize = (6, 6))\n",
    "plt.pie(undersampled_retention_count_pd[\"percentage\"], labels = ['Played again within 24 hours', 'Did NOT play again within 24 hours'],\n",
    "        autopct = \"%1.1f%%\", startangle = 140, colors=[\"#ff9999\",\"#66b3ff\",\"#99ff99\",\"#ffcc99\",\"#c2c2f0\"])\n",
    "plt.title(\"Retentional Rate Distribution After Undersampling\")\n",
    "plt.show()"
   ]
  },
  {
   "cell_type": "markdown",
   "id": "08939bc6-1cea-4e8a-ad0f-c2b361afa8d8",
   "metadata": {
    "jp-MarkdownHeadingCollapsed": true
   },
   "source": [
    "### Training and evaluation"
   ]
  },
  {
   "cell_type": "code",
   "execution_count": 101,
   "id": "dd875376-83c0-4a8d-9bad-017a05ec7dca",
   "metadata": {},
   "outputs": [
    {
     "name": "stdout",
     "output_type": "stream",
     "text": [
      "***** LOGITSTIC REGRESSION *****\n",
      "AUC: 0.958\n",
      "MCC: 0.823\n",
      "Precision: 0.922\n",
      "Recall: 0.899\n",
      "F1 Score: 0.910\n",
      "\n",
      "***** RANDOM FOREST *****\n",
      "AUC: 0.983\n",
      "MCC: 0.868\n",
      "Precision: 0.922\n",
      "Recall: 0.949\n",
      "F1 Score: 0.935\n"
     ]
    }
   ],
   "source": [
    "assembler = VectorAssembler(\n",
    "    inputCols=[\n",
    "        \"sessionIntensity\",\n",
    "        \"totalSessions\",\n",
    "        \"isLateNight\",\n",
    "        \"hourVec\",\n",
    "        \"recencyRatio\"\n",
    "    ],\n",
    "    outputCol=\"features\"\n",
    ")\n",
    "\n",
    "data_vector = assembler.transform(undersampled_retention_df).select(\"features\", \"retentionLabel\")\n",
    "\n",
    "# Train-test split, 80% training, 20% testing\n",
    "# seed helps make the split more reproducible\n",
    "train, test = data_vector.randomSplit([0.8, 0.2], seed=42)\n",
    "\n",
    "### Logistic Regression ###\n",
    "lr = LogisticRegression(\n",
    "    featuresCol=\"features\",\n",
    "    labelCol=\"retentionLabel\",\n",
    "    maxIter=10\n",
    ")\n",
    "lr_model = lr.fit(train)\n",
    "\n",
    "predictions = lr_model.transform(test)\n",
    "evaluator = BinaryClassificationEvaluator(\n",
    "    labelCol=\"retentionLabel\",\n",
    "    rawPredictionCol=\"rawPrediction\",\n",
    "    metricName=\"areaUnderROC\"\n",
    ")\n",
    "\n",
    "tp = predictions.filter((col('prediction') == 1) & (col('retentionLabel') == 1)).count()\n",
    "tn = predictions.filter((col('prediction') == 0) & (col('retentionLabel') == 0)).count()\n",
    "fp = predictions.filter((col('prediction') == 1) & (col('retentionLabel') == 0)).count()\n",
    "fn = predictions.filter((col('prediction') == 0) & (col('retentionLabel') == 1)).count()\n",
    "\n",
    "precision = tp / (tp + fp)\n",
    "recall = tp / (tp + fn)\n",
    "f1_score = 2 * (precision * recall) / (precision + recall)\n",
    "mcc = ((tp * tn) - (fp * fn)) / ((tp + fp) * (tp + fn) * (tn + fp) * (tn + fn))**0.5\n",
    "auc = evaluator.evaluate(predictions)\n",
    "\n",
    "print('*' * 5, \"LOGITSTIC REGRESSION\", '*' * 5)\n",
    "print(f\"AUC: {auc:.3f}\")\n",
    "print(f\"MCC: {mcc:.3f}\")\n",
    "print(f\"Precision: {precision:.3f}\")\n",
    "print(f\"Recall: {recall:.3f}\")\n",
    "print(f\"F1 Score: {f1_score:.3f}\", end = '\\n\\n')\n",
    "\n",
    "### Random Forest ###\n",
    "\n",
    "rf = RandomForestClassifier(\n",
    "    featuresCol=\"features\",\n",
    "    labelCol=\"retentionLabel\",\n",
    "    numTrees=50\n",
    ")\n",
    "rf_model = rf.fit(train)\n",
    "rf_predictions = rf_model.transform(test)\n",
    "rf_tp = rf_predictions.filter((col('prediction') == 1) & (col('retentionLabel') == 1)).count()\n",
    "rf_tn = rf_predictions.filter((col('prediction') == 0) & (col('retentionLabel') == 0)).count()\n",
    "rf_fp = rf_predictions.filter((col('prediction') == 1) & (col('retentionLabel') == 0)).count()\n",
    "rf_fn = rf_predictions.filter((col('prediction') == 0) & (col('retentionLabel') == 1)).count()\n",
    "\n",
    "rf_precision = rf_tp / (rf_tp + rf_fp)\n",
    "rf_recall = rf_tp / (rf_tp + rf_fn)\n",
    "rf_f1_score = 2 * (rf_precision * rf_recall) / (rf_precision + rf_recall)\n",
    "rf_mcc = ((rf_tp * rf_tn) - (rf_fp * rf_fn)) / ((rf_tp + rf_fp) * (rf_tp + rf_fn) * (rf_tn + rf_fp) * (rf_tn + rf_fn))**0.5\n",
    "rf_auc = evaluator.evaluate(rf_predictions)\n",
    "\n",
    "print('*' * 6, \"RANDOM FOREST\", '*' * 6)\n",
    "print(f\"AUC: {rf_auc:.3f}\")\n",
    "print(f\"MCC: {rf_mcc:.3f}\")\n",
    "print(f\"Precision: {rf_precision:.3f}\")\n",
    "print(f\"Recall: {rf_recall:.3f}\")\n",
    "print(f\"F1 Score: {rf_f1_score:.3f}\")"
   ]
  }
 ],
 "metadata": {
  "kernelspec": {
   "display_name": "Python 3 (ipykernel)",
   "language": "python",
   "name": "python3"
  },
  "language_info": {
   "codemirror_mode": {
    "name": "ipython",
    "version": 3
   },
   "file_extension": ".py",
   "mimetype": "text/x-python",
   "name": "python",
   "nbconvert_exporter": "python",
   "pygments_lexer": "ipython3",
   "version": "3.11.11"
  },
  "widgets": {
   "application/vnd.jupyter.widget-state+json": {
    "state": {},
    "version_major": 2,
    "version_minor": 0
   }
  }
 },
 "nbformat": 4,
 "nbformat_minor": 5
}
